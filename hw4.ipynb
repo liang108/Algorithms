{
 "metadata": {
  "language_info": {
   "codemirror_mode": {
    "name": "ipython",
    "version": 3
   },
   "file_extension": ".py",
   "mimetype": "text/x-python",
   "name": "python",
   "nbconvert_exporter": "python",
   "pygments_lexer": "ipython3",
   "version": "3.7.1-final"
  },
  "orig_nbformat": 2,
  "kernelspec": {
   "name": "python3",
   "display_name": "Python 3.7.1 32-bit",
   "metadata": {
    "interpreter": {
     "hash": "1e3266d642cb174394dfcf6817e10b199b3518bc523970f9230182917a71aa74"
    }
   }
  }
 },
 "nbformat": 4,
 "nbformat_minor": 2,
 "cells": [
  {
   "cell_type": "code",
   "execution_count": 111,
   "metadata": {},
   "outputs": [],
   "source": [
    "def selection_sort(L):\n",
    "    i = 0\n",
    "    S = []\n",
    "    is_monotonic = True\n",
    "\n",
    "    # Check if non-decreasing sequence \n",
    "    while (i <= len(L)-1):\n",
    "        if (i < len(L)-1) and (L[i+1] < L[i]):\n",
    "            # Not a non-decreasing sequence\n",
    "            is_monotonic = False\n",
    "            S = []\n",
    "            i = 0\n",
    "            break\n",
    "        S.append(L[i])\n",
    "        i += 1\n",
    "    \n",
    "    if (is_monotonic == True):\n",
    "        return S\n",
    "\n",
    "    # Check if non-increasing sequence. If it is, we will need to build a reversed list R \n",
    "    is_monotonic = True \n",
    "    R = [None] * len(L)             \n",
    "    while (i <= len(L)-1):\n",
    "        if (i < len(L) - 1) and (L[i+1] > L[i]):\n",
    "            # Not a non-increasing sequence\n",
    "            is_monotonic = False\n",
    "            S = []\n",
    "            i = 0\n",
    "            break \n",
    "        R[len(L)-1-i] = L[i]\n",
    "        i += 1\n",
    "\n",
    "    if (is_monotonic == True):\n",
    "        return R\n",
    "\n",
    "    # Selection sort\n",
    "    while (len(L) > 0):\n",
    "        l = 0\n",
    "        for i in range(1, len(L)):\n",
    "            if L[i] < L[l]:\n",
    "                l = i\n",
    "        S.append(L[l])\n",
    "        del L[l]\n",
    "    \n",
    "    return S \n",
    "    \n",
    "        "
   ]
  },
  {
   "cell_type": "code",
   "execution_count": 112,
   "metadata": {},
   "outputs": [
    {
     "output_type": "stream",
     "name": "stdout",
     "text": [
      "Using case 2: \n\n"
     ]
    },
    {
     "output_type": "execute_result",
     "data": {
      "text/plain": [
       "[7, 8]"
      ]
     },
     "metadata": {},
     "execution_count": 112
    }
   ],
   "source": [
    "selection_sort([8,7])"
   ]
  },
  {
   "cell_type": "code",
   "execution_count": 101,
   "metadata": {},
   "outputs": [],
   "source": [
    "def reverse_list(F):\n",
    "    R = [None] * len(F) \n",
    "    for i in range(0, len(F)):\n",
    "        R[(len(F)-1)-i] = F[i]\n",
    "    return R\n"
   ]
  },
  {
   "cell_type": "code",
   "execution_count": 107,
   "metadata": {},
   "outputs": [
    {
     "output_type": "execute_result",
     "data": {
      "text/plain": [
       "[-1, 'a']"
      ]
     },
     "metadata": {},
     "execution_count": 107
    }
   ],
   "source": [
    "reverse_list(['a', -1])"
   ]
  },
  {
   "cell_type": "code",
   "execution_count": 102,
   "metadata": {},
   "outputs": [],
   "source": [
    "def reverse_selection_sort(U):\n",
    "    S = []\n",
    "    while len(U) > 0:\n",
    "        maxi = 0\n",
    "        for i in range(1, len(U)):\n",
    "            if U[i] > U[maxi]:\n",
    "                maxi = i\n",
    "        S.append(U[maxi])\n",
    "        temp = U[-1]\n",
    "        U[maxi] = U[-1]\n",
    "        U[-1] = temp\n",
    "        del U[-1]\n",
    "    return S\n",
    "\n",
    "\n"
   ]
  },
  {
   "cell_type": "code",
   "execution_count": 103,
   "metadata": {},
   "outputs": [
    {
     "output_type": "execute_result",
     "data": {
      "text/plain": [
       "[35, 21, 4, 2, 2, 1]"
      ]
     },
     "metadata": {},
     "execution_count": 103
    }
   ],
   "source": [
    "reverse_selection_sort([4,2,1,35,21,2])"
   ]
  }
 ]
}